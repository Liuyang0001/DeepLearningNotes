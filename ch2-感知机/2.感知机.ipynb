{
 "cells": [
  {
   "cell_type": "markdown",
   "metadata": {},
   "source": [
    "# 感知机算法"
   ]
  },
  {
   "cell_type": "markdown",
   "metadata": {},
   "source": [
    "## 1.感知机是什么？\n",
    "\n",
    "感知机接收多个输入信号，输出一个信号。这里所说的“信号”可以想象成电流或河流那样具备“流动性”的东西。像电流流过导线，向前方输送电子一样，感知机的信号也会形成流，向前方输送信息。但是，和实际的电流不同的是，感知机的信号只有“流/ 不流”（1/0）两种取值。在本章节中，0对应“不传递信号”，1 对应“传递信号”。"
   ]
  },
  {
   "cell_type": "markdown",
   "metadata": {},
   "source": [
    "有N个输入感知机用数学表达式为，可以表示：\n",
    "\n",
    "∑wi*xi <= θ :输出 y=0\n",
    "\n",
    "∑wi*xi > θ   :输出 y=1\n",
    "\n",
    "其中wi为权重，xi为值，θ为阈值，这个过程也称为“神经元激活”。"
   ]
  },
  {
   "cell_type": "markdown",
   "metadata": {},
   "source": []
  },
  {
   "cell_type": "markdown",
   "metadata": {},
   "source": [
    "## 2.简单逻辑电路"
   ]
  },
  {
   "cell_type": "markdown",
   "metadata": {},
   "source": [
    "### 2.1感知机实现与门\n",
    "\n",
    "实际上，满足与门的条件的参数的选择方法有无数多个。比如，当(w1, w2, θ) = (0.5, 0.5, 0.7) 时，可以满足条件。此外，当(w1, w2, θ)为(0.5, 0.5, 0.8) 或者(1.0, 1.0, 1.0) 时，同样也满足与门的条件。设定这样的参数后，仅当x1 和x2 同时为 1 时，信号的加权总和才会超过给定的阈值θ。"
   ]
  },
  {
   "cell_type": "markdown",
   "metadata": {},
   "source": [
    "### 2.2与非门\n",
    "\n",
    "要表示与非门，可以用(w1, w2, θ) = (−0.5, −0.5, −0.7) 这样的组合（其他的组合也是无限存在的）。实际上，只要把实现与门的参数值的符号取反，就可以实现与非门。"
   ]
  },
  {
   "cell_type": "markdown",
   "metadata": {},
   "source": [
    "### 2.3或门\n",
    "\n",
    "要表示或门，可以用(w1, w2, θ) = (1, 1, 0.9) 这样的组合."
   ]
  },
  {
   "cell_type": "markdown",
   "metadata": {},
   "source": []
  },
  {
   "cell_type": "markdown",
   "metadata": {},
   "source": [
    "## 3.感知机的实现"
   ]
  },
  {
   "cell_type": "markdown",
   "metadata": {},
   "source": [
    "### 3.1利用感知机实现与门"
   ]
  },
  {
   "cell_type": "code",
   "execution_count": 20,
   "metadata": {},
   "outputs": [],
   "source": [
    "# 利用感知机实现与门\n",
    "def AND(x1,x2):\n",
    "    w1,w2,theta = (0.5,0.5,0.7)\n",
    "    tmp = x1*w1 + x2*w2\n",
    "    return 1 if tmp>theta else 0"
   ]
  },
  {
   "cell_type": "code",
   "execution_count": 21,
   "metadata": {},
   "outputs": [
    {
     "output_type": "stream",
     "name": "stdout",
     "text": "0 1\n"
    }
   ],
   "source": [
    "print(AND(0,1),AND(1,1))"
   ]
  },
  {
   "cell_type": "markdown",
   "metadata": {},
   "source": [
    "### 3.2利用NumPy实现感知机\n",
    "\n",
    "将theta移到等式左边令其为-b，我们将这里的b称为偏置。\n",
    "\n",
    "(∑wi*xi) -b <= 0 时，y=0; (∑wi*xi) -b > 0 时，y=1。"
   ]
  },
  {
   "cell_type": "code",
   "execution_count": 18,
   "metadata": {},
   "outputs": [],
   "source": [
    "import numpy as np\n",
    "def AND(x1,x2):\n",
    "    # 输入\n",
    "    x = np.array([x1, x2])\n",
    "    # 权重\n",
    "    w = np.array([0.5,0.5])\n",
    "    # 偏置\n",
    "    b = -0.7\n",
    "    tmp = np.sum(w*x) + b\n",
    "    return 1 if tmp>0 else 0"
   ]
  },
  {
   "cell_type": "code",
   "execution_count": 22,
   "metadata": {},
   "outputs": [
    {
     "output_type": "stream",
     "name": "stdout",
     "text": "0 1\n"
    }
   ],
   "source": [
    "print(AND(0,1),AND(1,1))"
   ]
  },
  {
   "cell_type": "code",
   "execution_count": 23,
   "metadata": {},
   "outputs": [],
   "source": [
    "# 与非门\n",
    "def NAND(x1,x2):\n",
    "    return not AND(x1,x2)\n",
    "\n",
    "# 或门\n",
    "def OR(x1,x2):\n",
    "    # 输入\n",
    "    x = np.array([x1, x2])\n",
    "    # 权重\n",
    "    w = np.array([0.5,0.5])\n",
    "    # 偏置\n",
    "    b = -0.4\n",
    "    tmp = np.sum(w*x) + b\n",
    "    return 1 if tmp>0 else 0"
   ]
  },
  {
   "cell_type": "markdown",
   "metadata": {},
   "source": [
    "### 3.3感知机的局限性\n",
    "使用感知机可以实现与门、与非门、或门三种逻辑电路，但却无法实现异或门。\n",
    "\n",
    "感知机实际上是找到一条**直线:** `w1*x+w2*y+b=0`，将一个区域划分为两个区域，0区域和1区域。\n",
    "\n",
    "但是异或门无法找到这样一条直线，\n",
    "\n",
    "感知机的局限性就在于它只能表示由一条直线分割的空间,弯曲的曲线无法用感知机表示。\n",
    "\n",
    "另外，由曲线分割而成的空间称为非线性空间，由直线分割而成的空间称为线性空间。"
   ]
  },
  {
   "cell_type": "markdown",
   "metadata": {},
   "source": [
    "### 3.4多层感知机\n",
    "\n",
    "叠加了多层的感知机也称为多层感知机（multi-layeredperceptron）。\n",
    "\n",
    "实际上，感知机的绝妙之处在于它可以**“叠加层”**。\n",
    "\n",
    "异或门的制作方法有很多，其中之一就是组合我们前面做好的与门、与非门、或门进行配置"
   ]
  },
  {
   "cell_type": "markdown",
   "metadata": {},
   "source": [
    "> 上面所说的感知机的局限性，严格地讲，应该是“单层感知机无法表示异或门”或者“单层感知机无法分离非线性空间”"
   ]
  },
  {
   "cell_type": "markdown",
   "metadata": {},
   "source": [
    "#### 3.4.1 异或门的实现\n",
    "\n",
    "利用上面实现的与门，与非门，或门，实现异或运算。"
   ]
  },
  {
   "cell_type": "code",
   "execution_count": 24,
   "metadata": {},
   "outputs": [
    {
     "output_type": "stream",
     "name": "stdout",
     "text": "0 1 1 0\n"
    }
   ],
   "source": [
    "def XOR(x1,x2):\n",
    "    s1 = NAND(x1,x2)\n",
    "    s2 = OR(x1,x2)\n",
    "    return AND(s1,s2)\n",
    "\n",
    "print(XOR(0,0),XOR(0,1),XOR(1,0),XOR(1,1))"
   ]
  },
  {
   "cell_type": "markdown",
   "metadata": {},
   "source": [
    "异或门是一种多层结构的神经网络。这里，将最左边的一列称为第 0 层，中间的一列称为第 1 层，最右边的一列称为第 2 层。"
   ]
  },
  {
   "cell_type": "code",
   "execution_count": null,
   "metadata": {},
   "outputs": [],
   "source": [
    "# 第0层         第1层               第2层\n",
    "# (x1,x2)  ->    s1   (s1,s2)   ->   y\n",
    "# (x1,x2)  ->    s2\n",
    "\n",
    "# 第 0 层的两个神经元接收输入信号，并将信号发送至第 1 层的神经元。\n",
    "# 第 1 层的神经元将信号发送至第2 层的神经元，第 2 层的神经元输出 y。"
   ]
  },
  {
   "cell_type": "markdown",
   "metadata": {},
   "source": [
    "多层感知机能够进行复杂的表示，甚至可以构建计算机。实际上，在用与非门等低层的元件构建计算机的情况下，分阶段地制作所需的零件（模块）会比较自然，即先实现与门和或门，然后实现半加器和全加器，接着实现算数逻辑单元（ALU），然后实现CPU。因此，通过感知机表示计算机时，使用叠加了多层的构造来实现是比较自然的流程。\n"
   ]
  }
 ],
 "metadata": {
  "language_info": {
   "codemirror_mode": {
    "name": "ipython",
    "version": 3
   },
   "file_extension": ".py",
   "mimetype": "text/x-python",
   "name": "python",
   "nbconvert_exporter": "python",
   "pygments_lexer": "ipython3",
   "version": "3.5.2-final"
  },
  "orig_nbformat": 2,
  "kernelspec": {
   "name": "python35264bit0f77f0bdeac04792a7ae8ce9f7bbbff2",
   "display_name": "Python 3.5.2 64-bit"
  }
 },
 "nbformat": 4,
 "nbformat_minor": 2
}